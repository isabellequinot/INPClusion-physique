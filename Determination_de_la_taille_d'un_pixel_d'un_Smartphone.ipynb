{
  "nbformat": 4,
  "nbformat_minor": 0,
  "metadata": {
    "colab": {
      "name": "Determination de la taille d'un pixel d'un Smartphone.ipynb",
      "provenance": []
    },
    "kernelspec": {
      "name": "python3",
      "display_name": "Python 3"
    },
    "language_info": {
      "name": "python"
    }
  },
  "cells": [
    {
      "cell_type": "code",
      "execution_count": null,
      "metadata": {
        "id": "y8azBiD-nDOk"
      },
      "outputs": [],
      "source": [
        ""
      ]
    },
    {
      "cell_type": "markdown",
      "source": [
        "# **Détermination d'un pixel d'un appareil Smartphone**\n",
        "Explication"
      ],
      "metadata": {
        "id": "SkR-kBHdnE1j"
      }
    },
    {
      "cell_type": "code",
      "source": [
        "# -*- coding: utf-8 -*-\n",
        "\n",
        "\"\"\"\n",
        "Regression avec une fonction en utilisant la methode du xi2 reduit\n",
        "Prise en compte des incertitudes en X et en Y\n",
        "\"\"\"\n",
        "\n",
        "from scipy import *\n",
        "from pylab import *\n",
        "import scipy.optimize as spo\n",
        "\n",
        "# Donnees a modifier par l'etudiant\n",
        "# Abscisses et ordonnees\n",
        "X = array([0.221, 0.325, 0.462, 0.562, 0.656, 0.810, 0.922, 0.980])\n",
        "Y = array([2.172, 3.151, 4.542, 5.526, 6.434, 7.974, 9.001, 9.632])\n",
        "# Incertitudes sur les abscisses et les ordonnees\n",
        "uX = array([0.011, 0.016, 0.023, 0.028, 0.038, 0.041, 0.046,\t0.047])\n",
        "uY = array([0.107, 0.155, 0.421, 0.275, 0.321, 0.400, 0.450,\t0.480])\n",
        "\n",
        "##Regression\n",
        "def modele(x,a): #modele lineaire\n",
        "    return a*x\n",
        "\n",
        "def derivee(x,a): #derivee du modele\n",
        "    return a\n",
        "\n",
        "# fonction d'ecart entre mesure et modele ponderee par les incertitudes expe.\n",
        "def residual(a, x, y, ux, uy) :\n",
        "    return (y-modele(x, a))/sqrt(uy**2+(derivee(x,a)*ux)**2)\n",
        "\n",
        "#estimation des parametres à optimiser\n",
        "p0=array([1]) \n",
        "\n",
        "results = spo.leastsq(residual, p0, args=(X,Y,uX,uY), full_output=True) \n",
        "\n",
        "a = results[0] #Parametres d'ajustement optimaux \n",
        "yth = modele(X, a) # donnees ajustees\n",
        "chi2_red = sum(square( residual(a, X, Y, uX, uY)))/(X.size - 1) # evaluation du xi2 reduit                                      \n",
        "\n",
        "# Matrice de variance covariance estimee\n",
        "covm = results[1]   \n",
        "# Erreur sur les parametres estimes\n",
        "erra = sqrt(diag(covm))\n",
        "\n",
        "#Graphique\n",
        "fig, ax = plt.subplots(1)\n",
        "ax.errorbar(X,Y,xerr=uX, yerr=uY,fmt='o',label=\"data\")\n",
        "\n",
        "ax.plot(X,yth,label=\"fit\")\n",
        "textstr = \"$y = a \\cdot x$ \\n\\\n",
        "$a = %.3e \\pm %.3e $\\n\\\n",
        "$\\chi_{2,red} = %.2e$\"  %(a,erra,chi2_red)\n",
        "ax.text(0.05, 0.95, textstr, transform=ax.transAxes, fontsize=14, verticalalignment='top')\n",
        "\n",
        "title(r'Titre du graphique',fontsize=16)\n",
        "\n",
        "xticks(fontsize=12)\n",
        "#ylim(0, 90)\n",
        "xlabel(r'$x \\mathrm{\\; (Unit. \\, x)}$', fontsize=16)   \n",
        "yticks(fontsize=12)\n",
        "ylabel(r'$y \\mathrm{\\; (Unit. \\, y)}$', fontsize=16)\n",
        "#ylim(0, 90)\n",
        "\n",
        "ax.legend(loc=4)\n",
        "show()"
      ],
      "metadata": {
        "id": "i5y3TmBgnR-O"
      },
      "execution_count": null,
      "outputs": []
    }
  ]
}